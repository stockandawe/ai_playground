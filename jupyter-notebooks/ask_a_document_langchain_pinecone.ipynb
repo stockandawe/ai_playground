{
 "cells": [
  {
   "cell_type": "markdown",
   "id": "66e9b2da",
   "metadata": {},
   "source": [
    "# Step 1 - Data Ingestion"
   ]
  },
  {
   "cell_type": "code",
   "execution_count": 21,
   "id": "6480136a",
   "metadata": {},
   "outputs": [],
   "source": [
    "from langchain.document_loaders import PyPDFLoader\n",
    "from langchain.text_splitter import RecursiveCharacterTextSplitter"
   ]
  },
  {
   "cell_type": "markdown",
   "id": "b9cb9810",
   "metadata": {},
   "source": [
    "### Step 1.1 - Load PDFs (can load more than 1 PDFs)"
   ]
  },
  {
   "cell_type": "code",
   "execution_count": 22,
   "id": "729c0176",
   "metadata": {},
   "outputs": [],
   "source": [
    "pdfs = [\n",
    "    \"data/Deep_Work.pdf\"\n",
    "]"
   ]
  },
  {
   "cell_type": "code",
   "execution_count": 23,
   "id": "b9b4adf7",
   "metadata": {},
   "outputs": [],
   "source": [
    "all_pdfs = []\n",
    "for pdf in pdfs:\n",
    "    loader = PyPDFLoader(pdf)\n",
    "    # Load the PDF document\n",
    "    document = loader.load()        \n",
    "    # Add the loaded document to our list\n",
    "    all_pdfs.append(document)"
   ]
  },
  {
   "cell_type": "code",
   "execution_count": 24,
   "id": "b19a282a",
   "metadata": {},
   "outputs": [
    {
     "name": "stdout",
     "output_type": "stream",
     "text": [
      "chunked_all_pdfs length: 535\n"
     ]
    }
   ],
   "source": [
    "text_splitter = RecursiveCharacterTextSplitter(chunk_size=1000, chunk_overlap=0)\n",
    "\n",
    "chunked_all_pdfs = []\n",
    "for pdf in all_pdfs:\n",
    "    # Chunk the annual_report\n",
    "    texts = text_splitter.split_documents(pdf)\n",
    "    # Add the chunks to chunked_all_pdfs, which is a list of lists\n",
    "    chunked_all_pdfs.append(texts)\n",
    "    print(f\"chunked_all_pdfs length: {len(texts)}\")"
   ]
  },
  {
   "cell_type": "markdown",
   "id": "96be6a10",
   "metadata": {},
   "source": [
    "### Step 1.2 - Upsert pdf vector embeddings to Pinecone"
   ]
  },
  {
   "cell_type": "code",
   "execution_count": 25,
   "id": "f3741ec5",
   "metadata": {},
   "outputs": [],
   "source": [
    "from langchain.vectorstores import Chroma, Pinecone\n",
    "from langchain.embeddings.openai import OpenAIEmbeddings\n",
    "import pinecone\n",
    "import os"
   ]
  },
  {
   "cell_type": "code",
   "execution_count": 26,
   "id": "178e2c72",
   "metadata": {},
   "outputs": [],
   "source": [
    "OPENAI_API_KEY = os.environ.get('OPENAI_API_KEY')\n",
    "PINECONE_API_KEY = os.environ.get('PINECONE_API_KEY')\n",
    "PINECONE_API_ENV = os.environ.get('PINECONE_API_ENV')"
   ]
  },
  {
   "cell_type": "code",
   "execution_count": 27,
   "id": "41fd3b34",
   "metadata": {},
   "outputs": [],
   "source": [
    "embeddings = OpenAIEmbeddings(openai_api_key=OPENAI_API_KEY)"
   ]
  },
  {
   "cell_type": "code",
   "execution_count": 28,
   "id": "7422ec4d",
   "metadata": {},
   "outputs": [],
   "source": [
    "# Initialize Pinecone\n",
    "pinecone.init(\n",
    "    api_key=PINECONE_API_KEY,\n",
    "    environment=PINECONE_API_ENV\n",
    ")\n",
    "index_name = \"langchain2\""
   ]
  },
  {
   "cell_type": "code",
   "execution_count": 29,
   "id": "9bf7a4c5",
   "metadata": {},
   "outputs": [],
   "source": [
    "# Upsert annual reports to Pinecone via LangChain.\n",
    "# There's likely a better way to do this instead of Pinecone.from_texts()\n",
    "for chunks in chunked_all_pdfs:\n",
    "    Pinecone.from_texts([chunk.page_content for chunk in chunks], embeddings, index_name=index_name)"
   ]
  },
  {
   "cell_type": "markdown",
   "id": "77e60a7f",
   "metadata": {},
   "source": [
    "# Step 2 - Data Retrieval"
   ]
  },
  {
   "cell_type": "markdown",
   "id": "13e3dfda",
   "metadata": {},
   "source": [
    "### Step 2.1 - Retrieve the annual report vector embeddings from Pinecone"
   ]
  },
  {
   "cell_type": "code",
   "execution_count": 30,
   "id": "237ada8b",
   "metadata": {},
   "outputs": [],
   "source": [
    "vectorstore = Pinecone.from_existing_index(index_name=index_name, embedding=embeddings)"
   ]
  },
  {
   "cell_type": "markdown",
   "id": "5402f982",
   "metadata": {},
   "source": [
    "# Step 3 - Chat Q&A"
   ]
  },
  {
   "cell_type": "markdown",
   "id": "bda4a3af",
   "metadata": {},
   "source": [
    "### Step 3.1 - Ask questions about the pdf!"
   ]
  },
  {
   "cell_type": "code",
   "execution_count": 31,
   "id": "460e1f5b",
   "metadata": {},
   "outputs": [],
   "source": [
    "from langchain.llms import OpenAI\n",
    "from langchain.chains.question_answering import load_qa_chain"
   ]
  },
  {
   "cell_type": "code",
   "execution_count": 32,
   "id": "965ec7cb",
   "metadata": {},
   "outputs": [],
   "source": [
    "llm = OpenAI(temperature=0, openai_api_key=OPENAI_API_KEY)\n",
    "chain = load_qa_chain(llm)"
   ]
  },
  {
   "cell_type": "code",
   "execution_count": 33,
   "id": "ea6d8ad9",
   "metadata": {},
   "outputs": [
    {
     "data": {
      "text/plain": [
       "' This book does not provide any information about its content.'"
      ]
     },
     "execution_count": 33,
     "metadata": {},
     "output_type": "execute_result"
    }
   ],
   "source": [
    "query = \"What is this book about?\"\n",
    "docs = vectorstore.similarity_search(query, include_metadata=True)\n",
    "chain.run(input_documents=docs, question=query)"
   ]
  },
  {
   "cell_type": "code",
   "execution_count": 34,
   "id": "c15cbeee",
   "metadata": {},
   "outputs": [
    {
     "data": {
      "text/plain": [
       "' The 5 top lessons from this book are to work deeply, embrace boredom, quit social media, drain the shallows, and focus on living a focused life.'"
      ]
     },
     "execution_count": 34,
     "metadata": {},
     "output_type": "execute_result"
    }
   ],
   "source": [
    "query = \"What are the 5 top lessons from this book?\"\n",
    "docs = vectorstore.similarity_search(query)\n",
    "chain.run(input_documents=docs, question=query)"
   ]
  },
  {
   "cell_type": "code",
   "execution_count": 35,
   "id": "61f8ca7f",
   "metadata": {},
   "outputs": [
    {
     "data": {
      "text/plain": [
       "\" This book is about the concept of deep work and how to incorporate it into your life. It begins by discussing the value of deep work and how it is becoming increasingly rare in today's world. It then goes on to discuss four rules for incorporating deep work into your life: work deeply, embrace boredom, quit social media, and drain the shallows. The book then concludes with a discussion of how deep work can be meaningful and how it can help you achieve your goals. The book also includes notes, newsletters, and a copyright page. In summary, this book is about the concept of deep work and how to incorporate it into your life. It provides four rules for doing so and discusses the value and meaning of deep work.\""
      ]
     },
     "execution_count": 35,
     "metadata": {},
     "output_type": "execute_result"
    }
   ],
   "source": [
    "query = \"Provide a summary of this book in 300 words\"\n",
    "docs = vectorstore.similarity_search(query)\n",
    "chain.run(input_documents=docs, question=query)"
   ]
  },
  {
   "cell_type": "code",
   "execution_count": 36,
   "id": "3f33fe17",
   "metadata": {},
   "outputs": [
    {
     "data": {
      "text/plain": [
       "' According to the context, the most adept deep thinker cannot spend more than four hours in a state of true depth in a given day.'"
      ]
     },
     "execution_count": 36,
     "metadata": {},
     "output_type": "execute_result"
    }
   ],
   "source": [
    "query = \"How many hours in a day can someone spend doing deep work?\"\n",
    "docs = vectorstore.similarity_search(query)\n",
    "chain.run(input_documents=docs, question=query)"
   ]
  },
  {
   "cell_type": "code",
   "execution_count": 37,
   "id": "3a95e060",
   "metadata": {
    "scrolled": true
   },
   "outputs": [
    {
     "data": {
      "text/plain": [
       "' The author suggests that someone can ensure they have time to do deep work by introducing artificial constraints on their schedule, blocking out deep work hours and preserving them against incursion, and ritualizing their work habits.'"
      ]
     },
     "execution_count": 37,
     "metadata": {},
     "output_type": "execute_result"
    }
   ],
   "source": [
    "query = \"What does the author suggest are ways to ensure someone can get time to do deep work?\"\n",
    "docs = vectorstore.similarity_search(query)\n",
    "chain.run(input_documents=docs, question=query)"
   ]
  },
  {
   "cell_type": "code",
   "execution_count": 38,
   "id": "3f39da2d",
   "metadata": {},
   "outputs": [
    {
     "data": {
      "text/plain": [
       "' Yes, someone can get burnt out when trying to do deep work. Deep work requires intense, uninterrupted concentration on cognitively demanding concepts, which can be mentally and physically exhausting.'"
      ]
     },
     "execution_count": 38,
     "metadata": {},
     "output_type": "execute_result"
    }
   ],
   "source": [
    "query = \"Can someone get burnt out when trying to do deep work?\"\n",
    "docs = vectorstore.similarity_search(query)\n",
    "chain.run(input_documents=docs, question=query)"
   ]
  },
  {
   "cell_type": "code",
   "execution_count": 39,
   "id": "e0aca588",
   "metadata": {},
   "outputs": [
    {
     "data": {
      "text/plain": [
       "\" This book, written by Cal Newport, is about the concept of deep work and how to incorporate it into one's life. Deep work is defined as activities that require intense focus and concentration, and it is valuable because it produces results that are of high quality and can be completed quickly. Deep work is also rare, as most people are distracted by shallow activities such as social media and email. The book provides four rules for incorporating deep work into one's life: work deeply, embrace boredom, quit social media, and drain the shallows. By following these rules, one can become more productive and successful in their work. The book also provides an introduction to the concept of deep work, as well as a conclusion that summarizes the main points.\""
      ]
     },
     "execution_count": 39,
     "metadata": {},
     "output_type": "execute_result"
    }
   ],
   "source": [
    "query = \"Provide a summary of this book using 1000 words\"\n",
    "docs = vectorstore.similarity_search(query)\n",
    "chain.run(input_documents=docs, question=query)"
   ]
  },
  {
   "cell_type": "code",
   "execution_count": null,
   "id": "36368231",
   "metadata": {},
   "outputs": [],
   "source": []
  }
 ],
 "metadata": {
  "kernelspec": {
   "display_name": "Python 3 (ipykernel)",
   "language": "python",
   "name": "python3"
  },
  "language_info": {
   "codemirror_mode": {
    "name": "ipython",
    "version": 3
   },
   "file_extension": ".py",
   "mimetype": "text/x-python",
   "name": "python",
   "nbconvert_exporter": "python",
   "pygments_lexer": "ipython3",
   "version": "3.9.13"
  }
 },
 "nbformat": 4,
 "nbformat_minor": 5
}
